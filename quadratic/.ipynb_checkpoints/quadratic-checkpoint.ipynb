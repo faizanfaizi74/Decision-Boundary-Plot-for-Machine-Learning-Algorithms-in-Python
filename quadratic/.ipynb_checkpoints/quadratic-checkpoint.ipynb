{
 "cells": [
  {
   "cell_type": "markdown",
   "id": "8c829f65",
   "metadata": {},
   "source": [
    "# 2 - Quadratic Network"
   ]
  },
  {
   "cell_type": "code",
   "execution_count": 1,
   "id": "8f91dcf7",
   "metadata": {},
   "outputs": [],
   "source": [
    "import tensorflow as tf\n",
    "from tensorflow import keras\n",
    "\n",
    "import pandas as pd\n",
    "import numpy as np\n",
    "import matplotlib.pyplot as plt"
   ]
  },
  {
   "cell_type": "code",
   "execution_count": 2,
   "id": "bab72a70",
   "metadata": {},
   "outputs": [
    {
     "name": "stdout",
     "output_type": "stream",
     "text": [
      "          x          y  color\n",
      "0  2.032224   2.750236    1.0\n",
      "1  4.462602  21.453412    0.0\n",
      "2  1.998477   2.468740    1.0\n",
      "3 -2.679735   5.321854    1.0\n",
      "4 -2.094521   5.967961    0.0\n"
     ]
    }
   ],
   "source": [
    "train_df = pd.read_csv('./data/train.csv')\n",
    "np.random.shuffle(train_df.values)\n",
    "\n",
    "print(train_df.head())"
   ]
  },
  {
   "cell_type": "markdown",
   "id": "1f9702b1",
   "metadata": {},
   "source": [
    "# Plotting Data"
   ]
  },
  {
   "cell_type": "code",
   "execution_count": 3,
   "id": "079973aa",
   "metadata": {},
   "outputs": [
    {
     "data": {
      "image/png": "[encoded data removed]",
      "text/plain": [
       "<Figure size 432x288 with 1 Axes>"
      ]
     },
     "metadata": {
      "needs_background": "light"
     },
     "output_type": "display_data"
    }
   ],
   "source": [
    "df1 = train_df[train_df.color==0]\n",
    "df2 = train_df[train_df.color==1]\n",
    "\n",
    "plt.scatter(df1.x, df1.y, marker = '.', color='red')\n",
    "plt.scatter(df2.x, df2.y, marker = '.', color='blue')\n",
    "\n",
    "plt.show()"
   ]
  },
  {
   "cell_type": "markdown",
   "id": "a3adfb81",
   "metadata": {},
   "source": [
    "# Sequencial API"
   ]
  },
  {
   "cell_type": "code",
   "execution_count": 4,
   "id": "3a419e99",
   "metadata": {},
   "outputs": [],
   "source": [
    "# model = keras.Sequential([\n",
    "# \tkeras.layers.Dense(32, input_shape=(2,), activation='relu'),\n",
    "# \tkeras.layers.Dense(32, activation='relu'),\n",
    "# \tkeras.layers.Dense(2, activation='sigmoid')])"
   ]
  },
  {
   "cell_type": "markdown",
   "id": "6cb6745e",
   "metadata": {},
   "source": [
    "# Functional API"
   ]
  },
  {
   "cell_type": "code",
   "execution_count": 5,
   "id": "bd3c7e9f",
   "metadata": {},
   "outputs": [
    {
     "name": "stdout",
     "output_type": "stream",
     "text": [
      "Model: \"functional_1\"\n",
      "_________________________________________________________________\n",
      "Layer (type)                 Output Shape              Param #   \n",
      "=================================================================\n",
      "input_1 (InputLayer)         [(None, 2)]               0         \n",
      "_________________________________________________________________\n",
      "First_layer (Dense)          (None, 32)                96        \n",
      "_________________________________________________________________\n",
      "Second_layer (Dense)         (None, 32)                1056      \n",
      "_________________________________________________________________\n",
      "dense (Dense)                (None, 2)                 66        \n",
      "=================================================================\n",
      "Total params: 1,218\n",
      "Trainable params: 1,218\n",
      "Non-trainable params: 0\n",
      "_________________________________________________________________\n",
      "None\n"
     ]
    }
   ],
   "source": [
    "# Functional API (Func: It is more flexible as it can handle multiple input and multiple output - More Flexible)\n",
    "inputs = keras.Input(shape=(2,))\n",
    "x = keras.layers.Dense(32, activation='relu', name='First_layer')(inputs)\n",
    "x = keras.layers.Dense(32, activation='relu', name='Second_layer')(x)\n",
    "outputs = keras.layers.Dense(2, activation='sigmoid')(x)\n",
    "model = keras.Model(inputs=inputs, outputs=outputs)\n",
    "\n",
    "print(model.summary())   # Network information -> Layers -> Nodes -> Parameters"
   ]
  },
  {
   "cell_type": "markdown",
   "id": "92c05215",
   "metadata": {},
   "source": [
    "# Modal Training"
   ]
  },
  {
   "cell_type": "code",
   "execution_count": 6,
   "id": "1b3828e9",
   "metadata": {},
   "outputs": [],
   "source": [
    "model.compile(optimizer='adam', \n",
    "              loss=keras.losses.SparseCategoricalCrossentropy(from_logits=True),\n",
    "              metrics=['accuracy'])\n",
    "\n",
    "x = np.column_stack((train_df.x.values, train_df.y.values))"
   ]
  },
  {
   "cell_type": "code",
   "execution_count": 7,
   "id": "1f3adc4a",
   "metadata": {},
   "outputs": [
    {
     "name": "stdout",
     "output_type": "stream",
     "text": [
      "Epoch 1/10\n",
      "1000/1000 - 1s - loss: 0.5695 - accuracy: 0.7692\n",
      "Epoch 2/10\n",
      "1000/1000 - 1s - loss: 0.4503 - accuracy: 0.8905\n",
      "Epoch 3/10\n",
      "1000/1000 - 1s - loss: 0.3945 - accuracy: 0.9433\n",
      "Epoch 4/10\n",
      "1000/1000 - 1s - loss: 0.3629 - accuracy: 0.9705\n",
      "Epoch 5/10\n",
      "1000/1000 - 1s - loss: 0.3447 - accuracy: 0.9860\n",
      "Epoch 6/10\n",
      "1000/1000 - 1s - loss: 0.3379 - accuracy: 0.9872\n",
      "Epoch 7/10\n",
      "1000/1000 - 1s - loss: 0.3277 - accuracy: 0.9965\n",
      "Epoch 8/10\n",
      "1000/1000 - 1s - loss: 0.3293 - accuracy: 0.9905\n",
      "Epoch 9/10\n",
      "1000/1000 - 1s - loss: 0.3315 - accuracy: 0.9847\n",
      "Epoch 10/10\n",
      "1000/1000 - 1s - loss: 0.3245 - accuracy: 0.9923\n"
     ]
    },
    {
     "data": {
      "text/plain": [
       "<tensorflow.python.keras.callbacks.History at 0x20213808f40>"
      ]
     },
     "execution_count": 7,
     "metadata": {},
     "output_type": "execute_result"
    }
   ],
   "source": [
    "model.fit(x, train_df.color.values, batch_size=4, epochs=10, verbose=2)"
   ]
  },
  {
   "cell_type": "markdown",
   "id": "ebd62f9d",
   "metadata": {},
   "source": [
    "# Test Data Evaluation"
   ]
  },
  {
   "cell_type": "code",
   "execution_count": 8,
   "id": "4a15ecbf",
   "metadata": {},
   "outputs": [
    {
     "name": "stdout",
     "output_type": "stream",
     "text": [
      "EVALUATION\n",
      "32/32 [==============================] - 0s 999us/step - loss: 0.3401 - accuracy: 0.9730\n"
     ]
    },
    {
     "data": {
      "text/plain": [
       "[0.3400820195674896, 0.9729999899864197]"
      ]
     },
     "execution_count": 8,
     "metadata": {},
     "output_type": "execute_result"
    }
   ],
   "source": [
    "test_df = pd.read_csv('./data/test.csv')\n",
    "test_x = np.column_stack((test_df.x.values, test_df.y.values))\n",
    "\n",
    "print(\"EVALUATION\")\n",
    "model.evaluate(test_x, test_df.color.values)"
   ]
  },
  {
   "cell_type": "markdown",
   "id": "5c045044",
   "metadata": {},
   "source": [
    "# Test Data Plot"
   ]
  },
  {
   "cell_type": "code",
   "execution_count": 9,
   "id": "8c7dec9f",
   "metadata": {},
   "outputs": [
    {
     "data": {
      "image/png": "[encoded data removed]",
      "text/plain": [
       "<Figure size 432x288 with 1 Axes>"
      ]
     },
     "metadata": {
      "needs_background": "light"
     },
     "output_type": "display_data"
    }
   ],
   "source": [
    "plt.scatter(test_df.x,test_df.y)\n",
    "\n",
    "df1 = test_df[test_df.color==0]\n",
    "df2 = test_df[test_df.color==1]\n",
    "\n",
    "plt.scatter(df1.x, df1.y, marker = '+', color='red')\n",
    "plt.scatter(df2.x, df2.y, marker = '+', color='blue')\n",
    "\n",
    "plt.show()"
   ]
  },
  {
   "cell_type": "markdown",
   "id": "b113ed63",
   "metadata": {},
   "source": [
    "# SVM Model Fitting"
   ]
  },
  {
   "cell_type": "code",
   "execution_count": 20,
   "id": "0f8456dc",
   "metadata": {},
   "outputs": [],
   "source": [
    "from sklearn.metrics import confusion_matrix\n",
    "from sklearn.svm import SVC\n",
    "from sklearn import svm"
   ]
  },
  {
   "cell_type": "code",
   "execution_count": 23,
   "id": "95d63d0b",
   "metadata": {},
   "outputs": [
    {
     "data": {
      "text/plain": [
       "NuSVC(gamma='auto')"
      ]
     },
     "execution_count": 23,
     "metadata": {},
     "output_type": "execute_result"
    }
   ],
   "source": [
    "# fit the model\n",
    "clf = svm.NuSVC(gamma=\"auto\")\n",
    "clf.fit(x, train_df.color.values)"
   ]
  },
  {
   "cell_type": "markdown",
   "id": "386212d2",
   "metadata": {},
   "source": [
    "# Plotting Hyperplane ( Training Data )"
   ]
  },
  {
   "cell_type": "code",
   "execution_count": null,
   "id": "e7fe4920",
   "metadata": {},
   "outputs": [],
   "source": [
    "# plot the decision function for each datapoint on the grid\n",
    "Z = clf.decision_function(np.c_[xx.ravel(), yy.ravel()])\n",
    "Z = Z.reshape(xx.shape)\n",
    "\n",
    "plt.imshow(Z, interpolation=\"nearest\", extent=(xx.min(), xx.max(), yy.min(), yy.max()), \n",
    "           aspect=\"auto\", origin=\"lower\", cmap=plt.cm.PuOr_r,)\n",
    "\n",
    "contours = plt.contour(xx, yy, Z, levels=[0], linewidths=2, linestyles=\"dashed\")\n",
    "\n",
    "plt.scatter(x[:, 0], x[:, 1], s=30, c=train_df.color.values, cmap='winter', edgecolors=\"k\")\n",
    "plt.xticks(())\n",
    "plt.yticks(())\n",
    "plt.axis([-3, 3, -3, 3])\n",
    "plt.show()"
   ]
  }
 ],
 "metadata": {
  "kernelspec": {
   "display_name": "Python 3",
   "language": "python",
   "name": "python3"
  },
  "language_info": {
   "codemirror_mode": {
    "name": "ipython",
    "version": 3
   },
   "file_extension": ".py",
   "mimetype": "text/x-python",
   "name": "python",
   "nbconvert_exporter": "python",
   "pygments_lexer": "ipython3",
   "version": "3.8.8"
  }
 },
 "nbformat": 4,
 "nbformat_minor": 5
}

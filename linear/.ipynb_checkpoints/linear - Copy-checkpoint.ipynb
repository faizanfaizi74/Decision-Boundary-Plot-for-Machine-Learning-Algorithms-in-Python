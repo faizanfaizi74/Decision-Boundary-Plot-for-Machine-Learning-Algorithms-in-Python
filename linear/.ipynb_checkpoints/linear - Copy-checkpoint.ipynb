{
 "cells": [
  {
   "cell_type": "markdown",
   "id": "40645b04",
   "metadata": {},
   "source": [
    "# Machine Learning Assignment # 02 | Faizan Ikram - 2018-UET-NML-27"
   ]
  },
  {
   "cell_type": "markdown",
   "id": "e1db02d8",
   "metadata": {},
   "source": [
    "# 1 - Linear Network"
   ]
  },
  {
   "cell_type": "code",
   "execution_count": 1,
   "id": "2570acdc",
   "metadata": {},
   "outputs": [],
   "source": [
    "import tensorflow as tf\n",
    "from tensorflow import keras\n",
    "\n",
    "import pandas as pd\n",
    "import numpy as np\n",
    "import matplotlib.pyplot as plt"
   ]
  },
  {
   "cell_type": "code",
   "execution_count": 2,
   "id": "cbf1acbc",
   "metadata": {},
   "outputs": [
    {
     "name": "stdout",
     "output_type": "stream",
     "text": [
      "          x         y  color\n",
      "0  0.419843  1.561673    0.0\n",
      "1  2.539382  3.399106    0.0\n",
      "2  4.100378  5.345103    0.0\n",
      "3  0.471963  1.358082    0.0\n",
      "4  4.770411  3.579057    1.0\n"
     ]
    }
   ],
   "source": [
    "train_df = pd.read_csv('./data/train.csv')\n",
    "np.random.shuffle(train_df.values)\n",
    "\n",
    "print(train_df.head())"
   ]
  },
  {
   "cell_type": "markdown",
   "id": "742973d1",
   "metadata": {},
   "source": [
    "# Plotting Data"
   ]
  },
  {
   "cell_type": "code",
   "execution_count": 3,
   "id": "26a63756",
   "metadata": {},
   "outputs": [
    {
     "data": {
      "image/png": "[encoded data removed]",
      "text/plain": [
       "<Figure size 432x288 with 1 Axes>"
      ]
     },
     "metadata": {
      "needs_background": "light"
     },
     "output_type": "display_data"
    }
   ],
   "source": [
    "df1 = train_df[train_df.color==0]\n",
    "df2 = train_df[train_df.color==1]\n",
    "\n",
    "plt.scatter(df1.x, df1.y, marker = '.', color='red')\n",
    "plt.scatter(df2.x, df2.y, marker = '.', color='blue')\n",
    "plt.show()"
   ]
  },
  {
   "cell_type": "markdown",
   "id": "b65b630b",
   "metadata": {},
   "source": [
    "# Sequencial API"
   ]
  },
  {
   "cell_type": "code",
   "execution_count": 4,
   "id": "76cb22a3",
   "metadata": {},
   "outputs": [],
   "source": [
    "# #Sequencial API (Seq: We can map One Input to One Output - Not Flexible)\n",
    "#model = keras.Sequential([\n",
    "#keras.layers.Dense(4, input_shape=(2,), activation='relu'), \n",
    "#keras.layers.Dense(2, activation='sigmoid')])"
   ]
  },
  {
   "cell_type": "markdown",
   "id": "f3a5bfb3",
   "metadata": {},
   "source": [
    "# Functional API"
   ]
  },
  {
   "cell_type": "code",
   "execution_count": 5,
   "id": "37b2cca2",
   "metadata": {},
   "outputs": [
    {
     "name": "stdout",
     "output_type": "stream",
     "text": [
      "Model: \"functional_1\"\n",
      "_________________________________________________________________\n",
      "Layer (type)                 Output Shape              Param #   \n",
      "=================================================================\n",
      "input_1 (InputLayer)         [(None, 2)]               0         \n",
      "_________________________________________________________________\n",
      "First_layer (Dense)          (None, 4)                 12        \n",
      "_________________________________________________________________\n",
      "dense (Dense)                (None, 2)                 10        \n",
      "=================================================================\n",
      "Total params: 22\n",
      "Trainable params: 22\n",
      "Non-trainable params: 0\n",
      "_________________________________________________________________\n",
      "None\n"
     ]
    }
   ],
   "source": [
    "# Functional API (Func: It is more flexible as it can handle multiple input and multiple output - More Flexible)\n",
    "inputs = keras.Input(shape=(2,))\n",
    "x = keras.layers.Dense(4, activation='relu', name='First_layer')(inputs)\n",
    "outputs = keras.layers.Dense(2, activation='sigmoid')(x)\n",
    "model = keras.Model(inputs=inputs, outputs=outputs)\n",
    "\n",
    "print(model.summary())   # Network information -> Layers -> Nodes -> Parameters"
   ]
  },
  {
   "cell_type": "markdown",
   "id": "efabd476",
   "metadata": {},
   "source": [
    "# Modal Training"
   ]
  },
  {
   "cell_type": "code",
   "execution_count": 6,
   "id": "03a0a189",
   "metadata": {},
   "outputs": [],
   "source": [
    "model.compile(optimizer='adam',\n",
    "              loss=keras.losses.SparseCategoricalCrossentropy(),\n",
    "              metrics=['accuracy'])\n",
    "\n",
    "x = np.column_stack((train_df.x.values, train_df.y.values))"
   ]
  },
  {
   "cell_type": "code",
   "execution_count": 7,
   "id": "a6bdd2b0",
   "metadata": {},
   "outputs": [
    {
     "name": "stdout",
     "output_type": "stream",
     "text": [
      "Epoch 1/5\n",
      "1000/1000 - 1s - loss: 0.2528 - accuracy: 0.9985\n",
      "Epoch 2/5\n",
      "1000/1000 - 1s - loss: 0.0569 - accuracy: 1.0000\n",
      "Epoch 3/5\n",
      "1000/1000 - 1s - loss: 0.0214 - accuracy: 1.0000\n",
      "Epoch 4/5\n",
      "1000/1000 - 1s - loss: 0.0106 - accuracy: 1.0000\n",
      "Epoch 5/5\n",
      "1000/1000 - 1s - loss: 0.0062 - accuracy: 1.0000\n"
     ]
    },
    {
     "data": {
      "text/plain": [
       "<tensorflow.python.keras.callbacks.History at 0x2e9c00a8cd0>"
      ]
     },
     "execution_count": 7,
     "metadata": {},
     "output_type": "execute_result"
    }
   ],
   "source": [
    "model.fit(x, train_df.color.values, batch_size=4,  epochs=5, verbose=2)"
   ]
  },
  {
   "cell_type": "markdown",
   "id": "374a6465",
   "metadata": {},
   "source": [
    "# Test Data Evaluation"
   ]
  },
  {
   "cell_type": "code",
   "execution_count": 8,
   "id": "6ca63b8a",
   "metadata": {},
   "outputs": [
    {
     "name": "stdout",
     "output_type": "stream",
     "text": [
      "EVALUATION\n",
      "32/32 [==============================] - 0s 1ms/step - loss: 0.0047 - accuracy: 1.0000\n"
     ]
    },
    {
     "data": {
      "text/plain": [
       "[0.004726927727460861, 1.0]"
      ]
     },
     "execution_count": 8,
     "metadata": {},
     "output_type": "execute_result"
    }
   ],
   "source": [
    "test_df = pd.read_csv('./data/test.csv')\n",
    "test_x = np.column_stack((test_df.x.values, test_df.y.values))\n",
    "\n",
    "print(\"EVALUATION\")\n",
    "model.evaluate(test_x, test_df.color.values)"
   ]
  },
  {
   "cell_type": "markdown",
   "id": "717a200a",
   "metadata": {},
   "source": [
    "# Test Data Scatter Plot"
   ]
  },
  {
   "cell_type": "code",
   "execution_count": 10,
   "id": "080d9b2d",
   "metadata": {},
   "outputs": [
    {
     "data": {
      "image/png": "[encoded data removed]",
      "text/plain": [
       "<Figure size 432x288 with 1 Axes>"
      ]
     },
     "metadata": {
      "needs_background": "light"
     },
     "output_type": "display_data"
    }
   ],
   "source": [
    "plt.scatter(test_df.x,test_df.y)\n",
    "\n",
    "df1 = test_df[test_df.color==0]\n",
    "df2 = test_df[test_df.color==1]\n",
    "\n",
    "plt.scatter(df1.x, df1.y, marker = '+', color='red')\n",
    "plt.scatter(df2.x, df2.y, marker = '+', color='blue')\n",
    "\n",
    "plt.show()"
   ]
  },
  {
   "cell_type": "code",
   "execution_count": null,
   "id": "1567088f",
   "metadata": {},
   "outputs": [],
   "source": []
  }
 ],
 "metadata": {
  "kernelspec": {
   "display_name": "Python 3",
   "language": "python",
   "name": "python3"
  },
  "language_info": {
   "codemirror_mode": {
    "name": "ipython",
    "version": 3
   },
   "file_extension": ".py",
   "mimetype": "text/x-python",
   "name": "python",
   "nbconvert_exporter": "python",
   "pygments_lexer": "ipython3",
   "version": "3.8.8"
  }
 },
 "nbformat": 4,
 "nbformat_minor": 5
}
